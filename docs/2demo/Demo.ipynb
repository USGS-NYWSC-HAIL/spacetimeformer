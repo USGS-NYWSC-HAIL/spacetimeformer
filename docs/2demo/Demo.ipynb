{
 "cells": [
  {
   "cell_type": "markdown",
   "id": "052cb52c",
   "metadata": {
    "id": "052cb52c",
    "pycharm": {
     "name": "#%% md\n"
    }
   },
   "source": [
    "[![Open In Colab](https://colab.research.google.com/assets/colab-badge.svg)](https://colab.research.google.com/github/QData/spacetimeformer/blob/master/docs/2demo/Demo.ipynb)\n",
    " \n",
    "[![View Source on GitHub](https://img.shields.io/badge/github-view%20source-black.svg)](https://github.com/QData/spacetimeformer/blob/master/docs/2demo/Demo.ipynb)"
   ]
  },
  {
   "cell_type": "markdown",
   "source": [
    "## Demo to come"
   ],
   "metadata": {
    "id": "0Ie3gcwDiXFh",
    "pycharm": {
     "name": "#%% md\n"
    }
   },
   "id": "0Ie3gcwDiXFh"
  }
 ],
 "metadata": {
  "colab": {
   "name": "fastDemo.ipynb",
   "provenance": []
  },
  "kernelspec": {
   "display_name": "Python 3",
   "language": "python",
   "name": "python3"
  },
  "language_info": {
   "codemirror_mode": {
    "name": "ipython",
    "version": 3
   },
   "file_extension": ".py",
   "mimetype": "text/x-python",
   "name": "python",
   "nbconvert_exporter": "python",
   "pygments_lexer": "ipython3",
   "version": "3.7.10"
  }
 },
 "nbformat": 4,
 "nbformat_minor": 5
}